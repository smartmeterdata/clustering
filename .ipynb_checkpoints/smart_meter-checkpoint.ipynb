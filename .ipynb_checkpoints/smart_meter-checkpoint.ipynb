{
 "cells": [
  {
   "cell_type": "code",
   "execution_count": 1,
   "metadata": {
    "collapsed": true
   },
   "outputs": [],
   "source": [
    "x <- read.csv(\"Intervals_122014.csv\")"
   ]
  },
  {
   "cell_type": "code",
   "execution_count": 23,
   "metadata": {},
   "outputs": [
    {
     "name": "stdout",
     "output_type": "stream",
     "text": [
      "\r",
      "Read 25.4% of 5124672 rows\r",
      "Read 50.5% of 5124672 rows\r",
      "Read 75.5% of 5124672 rows\r",
      "Read 5124672 rows and 5 (of 5) columns from 0.282 GB file in 00:00:05\n"
     ]
    },
    {
     "data": {
      "text/plain": [
       " MR_MDVC_NUMBER       START_READ          END_READ        INTERVAL_TIME     \n",
       " Length:5124672     Min.   :    0.45   Min.   :    0.45   Length:5124672    \n",
       " Class :character   1st Qu.: 5738.55   1st Qu.: 5754.67   Class :character  \n",
       " Mode  :character   Median : 8909.28   Median : 8929.35   Mode  :character  \n",
       "                    Mean   : 9906.08   Mean   : 9929.12                     \n",
       "                    3rd Qu.:12888.57   3rd Qu.:12914.62                     \n",
       "                    Max.   :93837.32   Max.   :94035.96                     \n",
       "                                                                            \n",
       " INTERVAL_READ    \n",
       " Min.   : 0.0000  \n",
       " 1st Qu.: 0.0774  \n",
       " Median : 0.1536  \n",
       " Mean   : 0.2400  \n",
       " 3rd Qu.: 0.3024  \n",
       " Max.   :13.8945  \n",
       " NA's   :960      "
      ]
     },
     "metadata": {},
     "output_type": "display_data"
    },
    {
     "name": "stdout",
     "output_type": "stream",
     "text": [
      "Classes 'data.table' and 'data.frame':\t5124672 obs. of  5 variables:\n",
      " $ MR_MDVC_NUMBER: chr  \"123053022\" \"123053022\" \"123053022\" \"123053022\" ...\n",
      " $ START_READ    : num  10090 10090 10090 10090 10090 ...\n",
      " $ END_READ      : num  10116 10116 10116 10116 10116 ...\n",
      " $ INTERVAL_TIME : chr  \"01-DEC-2014 00:15:00\" \"01-DEC-2014 00:30:00\" \"01-DEC-2014 00:45:00\" \"01-DEC-2014 01:00:00\" ...\n",
      " $ INTERVAL_READ : num  0.1458 0.1128 0.093 0.0918 0.0912 ...\n",
      " - attr(*, \".internal.selfref\")=<externalptr> \n"
     ]
    }
   ],
   "source": [
    "library(data.table,lib.loc=\"../Rpackages\")\n",
    "x_tmp <- fread(\"Intervals_122014.csv\",header=TRUE,sep=\",\")\n",
    "summary(x_tmp)\n",
    "str(x_tmp)"
   ]
  },
  {
   "cell_type": "code",
   "execution_count": 24,
   "metadata": {},
   "outputs": [
    {
     "data": {
      "text/html": [
       "1713"
      ],
      "text/latex": [
       "1713"
      ],
      "text/markdown": [
       "1713"
      ],
      "text/plain": [
       "[1] 1713"
      ]
     },
     "metadata": {},
     "output_type": "display_data"
    }
   ],
   "source": [
    "length(unique(x$MR_MDVC_NUMBER))"
   ]
  },
  {
   "cell_type": "code",
   "execution_count": 25,
   "metadata": {},
   "outputs": [
    {
     "data": {
      "text/plain": [
       " MR_MDVC_NUMBER        START_READ          END_READ       \n",
       " Min.   :123053022   Min.   :    0.45   Min.   :    0.45  \n",
       " 1st Qu.:123053503   1st Qu.: 5738.55   1st Qu.: 5754.67  \n",
       " Median :123053944   Median : 8909.28   Median : 8929.35  \n",
       " Mean   :123056357   Mean   : 9906.08   Mean   : 9929.12  \n",
       " 3rd Qu.:123054389   3rd Qu.:12888.57   3rd Qu.:12914.62  \n",
       " Max.   :125132704   Max.   :93837.32   Max.   :94035.96  \n",
       "                                                          \n",
       "              INTERVAL_TIME     INTERVAL_READ    \n",
       " 01-DEC-2014 00:15:00:   1722   Min.   : 0.0000  \n",
       " 01-DEC-2014 00:30:00:   1722   1st Qu.: 0.0774  \n",
       " 01-DEC-2014 00:45:00:   1722   Median : 0.1536  \n",
       " 01-DEC-2014 01:00:00:   1722   Mean   : 0.2400  \n",
       " 01-DEC-2014 01:15:00:   1722   3rd Qu.: 0.3024  \n",
       " 01-DEC-2014 01:30:00:   1722   Max.   :13.8945  \n",
       " (Other)             :5114340   NA's   :960      "
      ]
     },
     "metadata": {},
     "output_type": "display_data"
    },
    {
     "name": "stdout",
     "output_type": "stream",
     "text": [
      "'data.frame':\t5124672 obs. of  5 variables:\n",
      " $ MR_MDVC_NUMBER: int  123053022 123053022 123053022 123053022 123053022 123053022 123053022 123053022 123053022 123053022 ...\n",
      " $ START_READ    : num  10090 10090 10090 10090 10090 ...\n",
      " $ END_READ      : num  10116 10116 10116 10116 10116 ...\n",
      " $ INTERVAL_TIME : Factor w/ 2976 levels \"01-DEC-2014 00:15:00\",..: 1 2 3 4 5 6 7 8 9 10 ...\n",
      " $ INTERVAL_READ : num  0.1458 0.1128 0.093 0.0918 0.0912 ...\n"
     ]
    }
   ],
   "source": [
    "summary(x)\n",
    "str(x)"
   ]
  },
  {
   "cell_type": "code",
   "execution_count": 26,
   "metadata": {
    "collapsed": true
   },
   "outputs": [],
   "source": [
    "cvt <- function(date,fmt=\"%d-%b-%Y %H:%M:%S\"){\n",
    "    print(date)\n",
    "    x <- strptime(date,fmt)\n",
    "    print(x)\n",
    "    unclass(as.POSIXct(x)+0);\n",
    "}"
   ]
  },
  {
   "cell_type": "code",
   "execution_count": 27,
   "metadata": {},
   "outputs": [
    {
     "data": {
      "text/html": [
       "'01-DEC-2014 01:00:00'"
      ],
      "text/latex": [
       "'01-DEC-2014 01:00:00'"
      ],
      "text/markdown": [
       "'01-DEC-2014 01:00:00'"
      ],
      "text/plain": [
       "[1] \"01-DEC-2014 01:00:00\""
      ]
     },
     "metadata": {},
     "output_type": "display_data"
    },
    {
     "name": "stdout",
     "output_type": "stream",
     "text": [
      "[1] \"01-DEC-2014 01:00:00\"\n",
      "[1] \"2014-12-01 01:00:00 UTC\"\n"
     ]
    },
    {
     "data": {
      "text/html": [
       "1417395600"
      ],
      "text/latex": [
       "1417395600"
      ],
      "text/markdown": [
       "1417395600"
      ],
      "text/plain": [
       "[1] 1417395600"
      ]
     },
     "metadata": {},
     "output_type": "display_data"
    }
   ],
   "source": [
    "x_tmp$INTERVAL_TIME[4]\n",
    "(cvt(x_tmp$INTERVAL_TIME[4]))"
   ]
  },
  {
   "cell_type": "code",
   "execution_count": null,
   "metadata": {},
   "outputs": [],
   "source": [
    "x_tmp$INTERVAL_TIME <- sapply(x_tmp$INTERVAL_TIME, cvt)"
   ]
  },
  {
   "cell_type": "code",
   "execution_count": null,
   "metadata": {},
   "outputs": [],
   "source": [
    "str(x_tmp)"
   ]
  },
  {
   "cell_type": "code",
   "execution_count": null,
   "metadata": {
    "collapsed": true
   },
   "outputs": [],
   "source": [
    "x <- x_tmp"
   ]
  },
  {
   "cell_type": "code",
   "execution_count": 11,
   "metadata": {},
   "outputs": [],
   "source": [
    "#get 5 highest samples\n",
    "tot = tapply(x$INTERVAL_READ, x$MR_MDVC_NUMBER, sum, na.rm=T)\n",
    "qtot = quantile(tot,0:10/10);\n",
    "\n",
    "o = order(-tot);\n",
    "top = names(tot[o][1:5]);\n",
    "x_top <- x[match(x$MR_MDVC_NUMBER, top, nomatch=0)>0,]\n",
    "\n",
    "mid = names(tot[tot<qtot[6]&tot>=qtot[5]])[1:5];\n",
    "x_mid <- x[match(x$MR_MDVC_NUMBER, mid, nomatch=0)>0,]\n",
    "\n",
    "bot = names(tot[tot<qtot[3]&tot>=qtot[2]])[1:5];\n",
    "x_bot <- x[match(x$MR_MDVC_NUMBER, bot, nomatch=0)>0,]"
   ]
  },
  {
   "cell_type": "code",
   "execution_count": null,
   "metadata": {},
   "outputs": [],
   "source": [
    "my_plot <- function(tmp_df, i, q){\n",
    "    name <- paste(i,\"_\",q,\".jpeg\",sep=\"\")\n",
    "    jpeg(name)\n",
    "    par(mfrow=c(4,2))\n",
    "    plot(filter(tmp_df[tmp_df$MR_MDVC_NUMBER==i,]$INTERVAL_READ,c(1,2,3,4,5,4,3,2,1)/(25)),main=i)\n",
    "    acf(tmp_df[tmp_df$MR_MDVC_NUMBER==i,]$INTERVAL_READ,lag=24*4,main=i)\n",
    "    acf(tmp_df[tmp_df$MR_MDVC_NUMBER==i,]$INTERVAL_READ,type=\"partial\",lag=24*4,main=i)\n",
    "    acf(diff(tmp_df$INTERVAL_READ),main=i)\n",
    "    dev.off()\n",
    "}"
   ]
  },
  {
   "cell_type": "code",
   "execution_count": null,
   "metadata": {},
   "outputs": [],
   "source": [
    "unique(x_bot$MR_MDVC_NUMBER)\n",
    "for(i in unique(x_bot$MR_MDVC_NUMBER)){\n",
    "    my_plot(x_bot,i,\"bot\")\n",
    "    print(i)\n",
    "}\n",
    "unique(x_top$MR_MDVC_NUMBER)\n",
    "for(i in unique(x_top$MR_MDVC_NUMBER)){\n",
    "    my_plot(x_top,i,\"top\")\n",
    "    print(i)\n",
    "}\n",
    "unique(x_mid$MR_MDVC_NUMBER)\n",
    "for(i in unique(x_mid$MR_MDVC_NUMBER)){\n",
    "    my_plot(x_mid,i,\"mid\")\n",
    "    print(i)\n",
    "}"
   ]
  },
  {
   "cell_type": "code",
   "execution_count": null,
   "metadata": {},
   "outputs": [],
   "source": [
    "my_acf <- function(tmp_df, i){\n",
    "    r1<-acf(tmp_df[tmp_df$MR_MDVC_NUMBER==i,]$INTERVAL_READ,lag=24*4,plot=FALSE,na.action = na.contiguous)\n",
    "    r2<-acf(tmp_df[tmp_df$MR_MDVC_NUMBER==i,]$INTERVAL_READ,type=\"partial\",lag=24*4,plot=FALSE,na.action = na.contiguous)\n",
    "    r3<-acf(diff(tmp_df$INTERVAL_READ),plot=FALSE,na.action = na.contiguous)\n",
    "    return(list(r1,r2,r3))\n",
    "}"
   ]
  },
  {
   "cell_type": "code",
   "execution_count": null,
   "metadata": {},
   "outputs": [],
   "source": [
    "user <- data.frame(ID=integer(),total_power=integer(),acf_user=I(list()))\n",
    "str(user)\n",
    "colnames(user)"
   ]
  },
  {
   "cell_type": "code",
   "execution_count": null,
   "metadata": {},
   "outputs": [],
   "source": [
    "counter <- 1\n",
    "for(i in unique(x$MR_MDVC_NUMBER)){\n",
    "    print(paste(\"ID: \",i))\n",
    "    print(paste(\"total power: \", sum(x[x$MR_MDVC_NUMBER==i,]$INTERVAL_READ)))\n",
    "    print(paste(\"length:\",length(x[x$MR_MDVC_NUMBER==i,])))\n",
    "    #print(counter)\n",
    "    print(paste(\"acf list: \",my_acf(x,i)))\n",
    "}\n",
    "str(x)"
   ]
  },
  {
   "cell_type": "code",
   "execution_count": null,
   "metadata": {},
   "outputs": [],
   "source": [
    "(t<-sum(x[x$MR_MDVC_NUMBER==123053233,]$INTERVAL_READ))\n",
    "(l <- my_acf(x,123053233))\n",
    "df <- data.frame()#ID=integer(123053233),total_power=double(t))\n",
    "df$ID <- 123053233\n",
    "df$total_power <- double(t)\n",
    "df$acf_user <- l\n",
    "str(df$ID)\n",
    "str(df$total_power)\n",
    "str(df$acf_user)"
   ]
  },
  {
   "cell_type": "code",
   "execution_count": null,
   "metadata": {},
   "outputs": [],
   "source": [
    "df$ID\n",
    "t"
   ]
  },
  {
   "cell_type": "code",
   "execution_count": null,
   "metadata": {
    "collapsed": true
   },
   "outputs": [],
   "source": []
  }
 ],
 "metadata": {
  "kernelspec": {
   "display_name": "R",
   "language": "R",
   "name": "ir"
  },
  "language_info": {
   "codemirror_mode": "r",
   "file_extension": ".r",
   "mimetype": "text/x-r-source",
   "name": "R",
   "pygments_lexer": "r",
   "version": "3.4.0"
  }
 },
 "nbformat": 4,
 "nbformat_minor": 1
}
