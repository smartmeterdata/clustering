{
 "cells": [
  {
   "cell_type": "code",
   "execution_count": 4,
   "metadata": {
    "collapsed": false
   },
   "outputs": [],
   "source": [
    "#x <- read.csv(\"Intervals_092014_012016.csv\",colClasses = c(\"character\",\"numeric\",\"numeric\",\"character\"),header=TRUE)\n",
    "library(data.table,lib.loc=\"../Rpackages\")"
   ]
  },
  {
   "cell_type": "code",
   "execution_count": 5,
   "metadata": {
    "collapsed": false
   },
   "outputs": [
    {
     "name": "stdout",
     "output_type": "stream",
     "text": [
      "\r",
      "Read 0.0% of 55281458 rows\r",
      "Read 2.4% of 55281458 rows\r",
      "Read 4.9% of 55281458 rows\r",
      "Read 7.3% of 55281458 rows\r",
      "Read 9.8% of 55281458 rows\r",
      "Read 12.3% of 55281458 rows\r",
      "Read 14.7% of 55281458 rows\r",
      "Read 17.1% of 55281458 rows\r",
      "Read 19.6% of 55281458 rows\r",
      "Read 22.0% of 55281458 rows\r",
      "Read 24.4% of 55281458 rows\r",
      "Read 26.9% of 55281458 rows\r",
      "Read 29.3% of 55281458 rows\r",
      "Read 31.8% of 55281458 rows\r",
      "Read 34.2% of 55281458 rows\r",
      "Read 36.7% of 55281458 rows\r",
      "Read 39.1% of 55281458 rows\r",
      "Read 41.6% of 55281458 rows\r",
      "Read 44.0% of 55281458 rows\r",
      "Read 46.5% of 55281458 rows\r",
      "Read 48.9% of 55281458 rows\r",
      "Read 51.4% of 55281458 rows\r",
      "Read 53.8% of 55281458 rows\r",
      "Read 56.3% of 55281458 rows\r",
      "Read 58.8% of 55281458 rows\r",
      "Read 61.2% of 55281458 rows\r",
      "Read 63.6% of 55281458 rows\r",
      "Read 66.0% of 55281458 rows\r",
      "Read 68.5% of 55281458 rows\r",
      "Read 70.9% of 55281458 rows\r",
      "Read 73.3% of 55281458 rows\r",
      "Read 75.8% of 55281458 rows\r",
      "Read 78.2% of 55281458 rows\r",
      "Read 80.6% of 55281458 rows\r",
      "Read 83.0% of 55281458 rows\r",
      "Read 85.5% of 55281458 rows\r",
      "Read 87.9% of 55281458 rows\r",
      "Read 90.4% of 55281458 rows\r",
      "Read 92.8% of 55281458 rows\r",
      "Read 95.3% of 55281458 rows\r",
      "Read 97.8% of 55281458 rows\r",
      "Read 55281458 rows and 5 (of 5) columns from 3.051 GB file in 00:00:47\n"
     ]
    }
   ],
   "source": [
    "x <- fread(\"Intervals_092014_072015.csv\",header=TRUE,sep=\",\",na.strings=\"\")"
   ]
  },
  {
   "cell_type": "code",
   "execution_count": 6,
   "metadata": {
    "collapsed": false
   },
   "outputs": [
    {
     "data": {
      "text/plain": [
       " MR_MDVC_NUMBER       START_READ       END_READ        INTERVAL_TIME     \n",
       " Length:55281458    Min.   :    0   Min.   :    0.08   Length:55281458   \n",
       " Class :character   1st Qu.: 6106   1st Qu.: 6116.56   Class :character  \n",
       " Mode  :character   Median : 9763   Median : 9780.80   Mode  :character  \n",
       "                    Mean   :11077   Mean   :11095.95                     \n",
       "                    3rd Qu.:14412   3rd Qu.:14434.97                     \n",
       "                    Max.   :99938   Max.   :99937.71                     \n",
       "                    NA's   :1519                                         \n",
       " INTERVAL_READ   \n",
       " Min.   : 0.000  \n",
       " 1st Qu.: 0.064  \n",
       " Median : 0.128  \n",
       " Mean   : 0.197  \n",
       " 3rd Qu.: 0.239  \n",
       " Max.   :34.394  \n",
       " NA's   :19308   "
      ]
     },
     "metadata": {},
     "output_type": "display_data"
    }
   ],
   "source": [
    "summary(x)"
   ]
  },
  {
   "cell_type": "code",
   "execution_count": 7,
   "metadata": {
    "collapsed": false
   },
   "outputs": [
    {
     "name": "stdout",
     "output_type": "stream",
     "text": [
      "Classes 'data.table' and 'data.frame':\t55281458 obs. of  5 variables:\n",
      " $ MR_MDVC_NUMBER: chr  \"123053022\" \"123053022\" \"123053022\" \"123053022\" ...\n",
      " $ START_READ    : num  8486 8486 8486 8486 8486 ...\n",
      " $ END_READ      : num  8498 8498 8498 8498 8498 ...\n",
      " $ INTERVAL_TIME : chr  \"01-SEP-2014 00:15:00\" \"01-SEP-2014 00:30:00\" \"01-SEP-2014 00:45:00\" \"01-SEP-2014 01:00:00\" ...\n",
      " $ INTERVAL_READ : num  0.148 0.101 0.141 0.231 0.262 ...\n",
      " - attr(*, \".internal.selfref\")=<externalptr> \n"
     ]
    }
   ],
   "source": [
    "str(x)"
   ]
  },
  {
   "cell_type": "code",
   "execution_count": 8,
   "metadata": {
    "collapsed": false
   },
   "outputs": [],
   "source": [
    "#get 5 highest samples\n",
    "tot = tapply(x$INTERVAL_READ, x$MR_MDVC_NUMBER, sum, na.rm=T)\n",
    "qtot = quantile(tot,0:10/10);\n",
    "\n",
    "o = order(-tot);\n",
    "top = names(tot[o][1:5]);\n",
    "x_top <- x[match(x$MR_MDVC_NUMBER, top, nomatch=0)>0,]\n",
    "\n",
    "mid = names(tot[tot<qtot[6]&tot>=qtot[5]])[1:5];\n",
    "x_mid <- x[match(x$MR_MDVC_NUMBER, mid, nomatch=0)>0,]\n",
    "\n",
    "bot = names(tot[tot<qtot[3]&tot>=qtot[2]])[1:5];\n",
    "x_bot <- x[match(x$MR_MDVC_NUMBER, bot, nomatch=0)>0,]"
   ]
  },
  {
   "cell_type": "code",
   "execution_count": 13,
   "metadata": {
    "collapsed": false
   },
   "outputs": [],
   "source": [
    "my_plot <- function(tmp_df, i, q){\n",
    "    name <- paste(i,\"_\",q,\"_full\",\".jpeg\",sep=\"\")\n",
    "    jpeg(name)\n",
    "    par(mfrow=c(4,2))\n",
    "    plot(filter(tmp_df[tmp_df$MR_MDVC_NUMBER==i,]$INTERVAL_READ,c(1,2,3,4,5,4,3,2,1)/(25)),main=i)\n",
    "    acf(tmp_df[tmp_df$MR_MDVC_NUMBER==i,]$INTERVAL_READ,lag=24*4,main=i,na.action=na.pass)\n",
    "    acf(tmp_df[tmp_df$MR_MDVC_NUMBER==i,]$INTERVAL_READ,type=\"partial\",lag=24*4,main=i,na.action=na.pass)\n",
    "    acf(diff(tmp_df$INTERVAL_READ),main=i,na.action=na.pass)\n",
    "    dev.off()\n",
    "}"
   ]
  },
  {
   "cell_type": "code",
   "execution_count": 14,
   "metadata": {
    "collapsed": false
   },
   "outputs": [
    {
     "data": {
      "text/html": [
       "<ol class=list-inline>\n",
       "\t<li>'123053025'</li>\n",
       "\t<li>'123053106'</li>\n",
       "\t<li>'123053137'</li>\n",
       "\t<li>'123053169'</li>\n",
       "\t<li>'123053053'</li>\n",
       "</ol>\n"
      ],
      "text/latex": [
       "\\begin{enumerate*}\n",
       "\\item '123053025'\n",
       "\\item '123053106'\n",
       "\\item '123053137'\n",
       "\\item '123053169'\n",
       "\\item '123053053'\n",
       "\\end{enumerate*}\n"
      ],
      "text/markdown": [
       "1. '123053025'\n",
       "2. '123053106'\n",
       "3. '123053137'\n",
       "4. '123053169'\n",
       "5. '123053053'\n",
       "\n",
       "\n"
      ],
      "text/plain": [
       "[1] \"123053025\" \"123053106\" \"123053137\" \"123053169\" \"123053053\""
      ]
     },
     "metadata": {},
     "output_type": "display_data"
    },
    {
     "name": "stdout",
     "output_type": "stream",
     "text": [
      "[1] \"123053025\"\n",
      "[1] \"123053106\"\n",
      "[1] \"123053137\"\n",
      "[1] \"123053169\"\n",
      "[1] \"123053053\"\n"
     ]
    },
    {
     "data": {
      "text/html": [
       "<ol class=list-inline>\n",
       "\t<li>'123053036'</li>\n",
       "\t<li>'123053040'</li>\n",
       "\t<li>'123053916'</li>\n",
       "\t<li>'123054013'</li>\n",
       "\t<li>'123054329'</li>\n",
       "</ol>\n"
      ],
      "text/latex": [
       "\\begin{enumerate*}\n",
       "\\item '123053036'\n",
       "\\item '123053040'\n",
       "\\item '123053916'\n",
       "\\item '123054013'\n",
       "\\item '123054329'\n",
       "\\end{enumerate*}\n"
      ],
      "text/markdown": [
       "1. '123053036'\n",
       "2. '123053040'\n",
       "3. '123053916'\n",
       "4. '123054013'\n",
       "5. '123054329'\n",
       "\n",
       "\n"
      ],
      "text/plain": [
       "[1] \"123053036\" \"123053040\" \"123053916\" \"123054013\" \"123054329\""
      ]
     },
     "metadata": {},
     "output_type": "display_data"
    },
    {
     "name": "stdout",
     "output_type": "stream",
     "text": [
      "[1] \"123053036\"\n",
      "[1] \"123053040\"\n",
      "[1] \"123053916\"\n",
      "[1] \"123054013\"\n",
      "[1] \"123054329\"\n"
     ]
    },
    {
     "data": {
      "text/html": [
       "<ol class=list-inline>\n",
       "\t<li>'123053028'</li>\n",
       "\t<li>'123053035'</li>\n",
       "\t<li>'123053089'</li>\n",
       "\t<li>'123053092'</li>\n",
       "\t<li>'123053103'</li>\n",
       "</ol>\n"
      ],
      "text/latex": [
       "\\begin{enumerate*}\n",
       "\\item '123053028'\n",
       "\\item '123053035'\n",
       "\\item '123053089'\n",
       "\\item '123053092'\n",
       "\\item '123053103'\n",
       "\\end{enumerate*}\n"
      ],
      "text/markdown": [
       "1. '123053028'\n",
       "2. '123053035'\n",
       "3. '123053089'\n",
       "4. '123053092'\n",
       "5. '123053103'\n",
       "\n",
       "\n"
      ],
      "text/plain": [
       "[1] \"123053028\" \"123053035\" \"123053089\" \"123053092\" \"123053103\""
      ]
     },
     "metadata": {},
     "output_type": "display_data"
    },
    {
     "name": "stdout",
     "output_type": "stream",
     "text": [
      "[1] \"123053028\"\n",
      "[1] \"123053035\"\n",
      "[1] \"123053089\"\n",
      "[1] \"123053092\"\n",
      "[1] \"123053103\"\n"
     ]
    }
   ],
   "source": [
    "unique(x_bot$MR_MDVC_NUMBER)\n",
    "for(i in unique(x_bot$MR_MDVC_NUMBER)){\n",
    "    my_plot(x_bot,i,\"bot_big\")\n",
    "    print(i)\n",
    "}\n",
    "unique(x_top$MR_MDVC_NUMBER)\n",
    "for(i in unique(x_top$MR_MDVC_NUMBER)){\n",
    "    my_plot(x_top,i,\"top_big\")\n",
    "    print(i)\n",
    "}\n",
    "unique(x_mid$MR_MDVC_NUMBER)\n",
    "for(i in unique(x_mid$MR_MDVC_NUMBER)){\n",
    "    my_plot(x_mid,i,\"mid_big\")\n",
    "    print(i)\n",
    "}"
   ]
  },
  {
   "cell_type": "code",
   "execution_count": null,
   "metadata": {
    "collapsed": true
   },
   "outputs": [],
   "source": []
  }
 ],
 "metadata": {
  "kernelspec": {
   "display_name": "R",
   "language": "R",
   "name": "ir"
  },
  "language_info": {
   "codemirror_mode": "r",
   "file_extension": ".r",
   "mimetype": "text/x-r-source",
   "name": "R",
   "pygments_lexer": "r",
   "version": "3.3.2"
  }
 },
 "nbformat": 4,
 "nbformat_minor": 1
}
