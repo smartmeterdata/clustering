{
 "cells": [
  {
   "cell_type": "code",
   "execution_count": 11,
   "metadata": {},
   "outputs": [
    {
     "ename": "ERROR",
     "evalue": "Error in scan(file = file, what = what, sep = sep, quote = quote, dec = dec, : scan() expected 'a real', got 'START_READ'\n",
     "output_type": "error",
     "traceback": [
      "Error in scan(file = file, what = what, sep = sep, quote = quote, dec = dec, : scan() expected 'a real', got 'START_READ'\nTraceback:\n",
      "1. read.csv(\"Intervals_092014_012016.csv\", colClasses = c(\"character\", \n .     \"numeric\", \"numeric\", \"character\"), header = TRUE)",
      "2. read.table(file = file, header = header, sep = sep, quote = quote, \n .     dec = dec, fill = fill, comment.char = comment.char, ...)",
      "3. scan(file = file, what = what, sep = sep, quote = quote, dec = dec, \n .     nmax = nrows, skip = 0, na.strings = na.strings, quiet = TRUE, \n .     fill = fill, strip.white = strip.white, blank.lines.skip = blank.lines.skip, \n .     multi.line = FALSE, comment.char = comment.char, allowEscapes = allowEscapes, \n .     flush = flush, encoding = encoding, skipNul = skipNul)"
     ]
    }
   ],
   "source": [
    "x <- read.csv(\"Intervals_092014_012016.csv\",colClasses = c(\"character\",\"numeric\",\"numeric\",\"character\"),header=TRUE)\n",
    "#library(data.table,lib.loc=\"../Rpackages\")"
   ]
  },
  {
   "cell_type": "code",
   "execution_count": 39,
   "metadata": {
    "collapsed": true
   },
   "outputs": [
    {
     "name": "stderr",
     "output_type": "stream",
     "text": [
      "Warning message in file(file, \"rt\"):\n",
      "\"cannot open file 'gunzip -c Intervals_092014_012016.csv.gz |': No such file or directory\""
     ]
    },
    {
     "ename": "ERROR",
     "evalue": "Error in file(file, \"rt\"): cannot open the connection\n",
     "output_type": "error",
     "traceback": [
      "Error in file(file, \"rt\"): cannot open the connection\nTraceback:\n",
      "1. read.csv(\"gunzip -c Intervals_092014_012016.csv.gz |\", colClasses = c(\"character\", \n .     \"numeric\", \"numeric\", \"character\"), header = TRUE)",
      "2. read.table(file = file, header = header, sep = sep, quote = quote, \n .     dec = dec, fill = fill, comment.char = comment.char, ...)",
      "3. file(file, \"rt\")"
     ]
    }
   ],
   "source": []
  },
  {
   "cell_type": "code",
   "execution_count": 1,
   "metadata": {},
   "outputs": [
    {
     "data": {
      "text/plain": [
       "Length  Class   Mode \n",
       "     0   NULL   NULL "
      ]
     },
     "metadata": {},
     "output_type": "display_data"
    }
   ],
   "source": [
    "library(data.table)\n",
    "full = c();\n",
    "\n",
    "#for(i in 0:1){\n",
    "#    x <- fread(\"gunzip -c Intervals_092014_012016.csv.gz | head -1000000\",\n",
    "#           #colClasses=c(\"character\",\"double\",\"double\",\"character\",\"double\"),\n",
    "#           header=TRUE,sep=\",\",na.strings=\"\")\n",
    "#    full= rbind(full, x)\n",
    "#}\n",
    "summary(full)"
   ]
  },
  {
   "cell_type": "code",
   "execution_count": 5,
   "metadata": {},
   "outputs": [
    {
     "name": "stdout",
     "output_type": "stream",
     "text": [
      "\r",
      "Read 0.0% of 55000000 rows\r",
      "Read 2.5% of 55000000 rows\r",
      "Read 5.0% of 55000000 rows\r",
      "Read 7.5% of 55000000 rows\r",
      "Read 9.9% of 55000000 rows\r",
      "Read 12.4% of 55000000 rows\r",
      "Read 14.9% of 55000000 rows\r",
      "Read 17.4% of 55000000 rows\r",
      "Read 19.9% of 55000000 rows\r",
      "Read 22.4% of 55000000 rows\r",
      "Read 24.9% of 55000000 rows\r",
      "Read 27.4% of 55000000 rows\r",
      "Read 29.9% of 55000000 rows\r",
      "Read 32.4% of 55000000 rows\r",
      "Read 34.8% of 55000000 rows\r",
      "Read 37.3% of 55000000 rows\r",
      "Read 39.8% of 55000000 rows\r",
      "Read 42.3% of 55000000 rows\r",
      "Read 44.8% of 55000000 rows\r",
      "Read 47.2% of 55000000 rows\r",
      "Read 49.7% of 55000000 rows\r",
      "Read 52.2% of 55000000 rows\r",
      "Read 54.7% of 55000000 rows\r",
      "Read 57.2% of 55000000 rows\r",
      "Read 59.7% of 55000000 rows\r",
      "Read 62.2% of 55000000 rows\r",
      "Read 64.7% of 55000000 rows\r",
      "Read 67.2% of 55000000 rows\r",
      "Read 69.7% of 55000000 rows\r",
      "Read 72.2% of 55000000 rows\r",
      "Read 74.7% of 55000000 rows\r",
      "Read 77.2% of 55000000 rows\r",
      "Read 79.7% of 55000000 rows\r",
      "Read 82.2% of 55000000 rows\r",
      "Read 84.7% of 55000000 rows\r",
      "Read 87.2% of 55000000 rows\r",
      "Read 89.7% of 55000000 rows\r",
      "Read 92.2% of 55000000 rows\r",
      "Read 94.7% of 55000000 rows\r",
      "Read 97.2% of 55000000 rows\r",
      "Read 99.7% of 55000000 rows\r",
      "Read 55000000 rows and 5 (of 5) columns from 5.247 GB file in 00:00:43\n"
     ]
    },
    {
     "data": {
      "text/plain": [
       " MR_MDVC_NUMBER       START_READ       END_READ        INTERVAL_TIME     \n",
       " Length:55000000    Min.   :    0   Min.   :    0.08   Length:55000000   \n",
       " Class :character   1st Qu.: 6106   1st Qu.: 6117.30   Class :character  \n",
       " Mode  :character   Median : 9761   Median : 9778.07   Mode  :character  \n",
       "                    Mean   :11071   Mean   :11089.86                     \n",
       "                    3rd Qu.:14405   3rd Qu.:14428.21                     \n",
       "                    Max.   :99938   Max.   :99937.71                     \n",
       "                    NA's   :1327                                         \n",
       " INTERVAL_READ   \n",
       " Min.   : 0.000  \n",
       " 1st Qu.: 0.064  \n",
       " Median : 0.128  \n",
       " Mean   : 0.197  \n",
       " 3rd Qu.: 0.239  \n",
       " Max.   :34.394  \n",
       " NA's   :19308   "
      ]
     },
     "metadata": {},
     "output_type": "display_data"
    }
   ],
   "source": [
    "# need t\n",
    "full = c();\n",
    "x <- fread(\"Intervals_092014_012016.csv\",\n",
    "#           colClasses=c(\"character\",\"double\",\"double\",\"character\",\"double\"),\n",
    "           header=TRUE,sep=\",\",na.strings=\"\",nrows = 55000000);\n",
    "full = rbind(full,x);\n",
    "summary(full)"
   ]
  },
  {
   "cell_type": "code",
   "execution_count": 15,
   "metadata": {},
   "outputs": [
    {
     "ename": "ERROR",
     "evalue": "Error in `[.data.table`(x, x[, 1] < 1, 1): i is invalid type (matrix). Perhaps in future a 2 column matrix could return a list of elements of DT (in the spirit of A[B] in FAQ 2.14). Please let datatable-help know if you'd like this, or add your comments to FR #657.\n",
     "output_type": "error",
     "traceback": [
      "Error in `[.data.table`(x, x[, 1] < 1, 1): i is invalid type (matrix). Perhaps in future a 2 column matrix could return a list of elements of DT (in the spirit of A[B] in FAQ 2.14). Please let datatable-help know if you'd like this, or add your comments to FR #657.\nTraceback:\n",
      "1. x[x[, 1] < 1, 1]",
      "2. `[.data.table`(x, x[, 1] < 1, 1)",
      "3. stop(\"i is invalid type (matrix). Perhaps in future a 2 column matrix could return a list of elements of DT (in the spirit of A[B] in FAQ 2.14). Please let datatable-help know if you'd like this, or add your comments to FR #657.\")"
     ]
    }
   ],
   "source": [
    "x = x[x[,1] < 1,1]\n",
    "summary(x)"
   ]
  },
  {
   "cell_type": "code",
   "execution_count": 6,
   "metadata": {},
   "outputs": [
    {
     "name": "stdout",
     "output_type": "stream",
     "text": [
      "Classes 'data.table' and 'data.frame':\t55000000 obs. of  5 variables:\n",
      " $ MR_MDVC_NUMBER: chr  \"123053022\" \"123053022\" \"123053022\" \"123053022\" ...\n",
      " $ START_READ    : num  8486 8486 8486 8486 8486 ...\n",
      " $ END_READ      : num  8498 8498 8498 8498 8498 ...\n",
      " $ INTERVAL_TIME : chr  \"01-SEP-2014 00:15:00\" \"01-SEP-2014 00:30:00\" \"01-SEP-2014 00:45:00\" \"01-SEP-2014 01:00:00\" ...\n",
      " $ INTERVAL_READ : num  0.148 0.101 0.141 0.231 0.262 ...\n",
      " - attr(*, \".internal.selfref\")=<externalptr> \n"
     ]
    }
   ],
   "source": [
    "str(x)"
   ]
  },
  {
   "cell_type": "code",
   "execution_count": null,
   "metadata": {
    "collapsed": true
   },
   "outputs": [],
   "source": [
    "x <- na.omit(x)\n",
    "x <- scale(x)"
   ]
  },
  {
   "cell_type": "code",
   "execution_count": null,
   "metadata": {
    "collapsed": true
   },
   "outputs": [],
   "source": [
    "\n",
    "table(x)\n",
    "table(x[,1])"
   ]
  },
  {
   "cell_type": "code",
   "execution_count": 7,
   "metadata": {},
   "outputs": [
    {
     "data": {
      "text/plain": [
       "\n",
       " 6340  6816 10176 11524 13536 13628 15460 17860 18332 19964 23900 23996 24288 \n",
       "    1     1     1     1     1     1     1     1     1     1     1     1     1 \n",
       "26496 26880 29088 29184 30350 31776 32064 32160 39488 54279 64112 64127 64128 \n",
       "    1     1    92     1     1     1  1601     1     1     1     1     1     6 "
      ]
     },
     "metadata": {},
     "output_type": "display_data"
    }
   ],
   "source": [
    "table(table(x[,1]))\n"
   ]
  },
  {
   "cell_type": "code",
   "execution_count": 15,
   "metadata": {},
   "outputs": [
    {
     "name": "stdout",
     "output_type": "stream",
     "text": [
      " chr \"125132704\"\n"
     ]
    }
   ],
   "source": [
    "good = names(table(x[,1]))[table(x[,1])==32046];\n",
    "str(good)"
   ]
  },
  {
   "cell_type": "code",
   "execution_count": 16,
   "metadata": {},
   "outputs": [
    {
     "name": "stdout",
     "output_type": "stream",
     "text": [
      " int [1:55281440] NA NA NA NA NA NA NA NA NA NA ...\n"
     ]
    }
   ],
   "source": [
    "mm=match(as.matrix(x[,1]),good)\n",
    "str(mm)"
   ]
  },
  {
   "cell_type": "code",
   "execution_count": 17,
   "metadata": {
    "collapsed": true
   },
   "outputs": [],
   "source": [
    "x1 = x[!is.na(mm),]"
   ]
  },
  {
   "cell_type": "code",
   "execution_count": 18,
   "metadata": {},
   "outputs": [
    {
     "data": {
      "text/html": [
       "<ol class=list-inline>\n",
       "\t<li>32046</li>\n",
       "\t<li>5</li>\n",
       "</ol>\n"
      ],
      "text/latex": [
       "\\begin{enumerate*}\n",
       "\\item 32046\n",
       "\\item 5\n",
       "\\end{enumerate*}\n"
      ],
      "text/markdown": [
       "1. 32046\n",
       "2. 5\n",
       "\n",
       "\n"
      ],
      "text/plain": [
       "[1] 32046     5"
      ]
     },
     "metadata": {},
     "output_type": "display_data"
    }
   ],
   "source": [
    "dim(x1)"
   ]
  },
  {
   "cell_type": "code",
   "execution_count": null,
   "metadata": {
    "collapsed": true
   },
   "outputs": [],
   "source": [
    "res = c();\n",
    "for (i in 1:1725){\n",
    "    res = cbind(res, as.matrix(x[((i-1)*32046+1):(i*32046),5]))\n",
    "}\n",
    "res = t(res)\n",
    "str(res)\n",
    "print(\"done\")"
   ]
  },
  {
   "cell_type": "code",
   "execution_count": null,
   "metadata": {
    "collapsed": true
   },
   "outputs": [],
   "source": [
    "d <- dist(res, method = \"euclidean\") # distance matrix\n",
    "fit <- hclust(d, method=\"ward\") \n",
    "plot(fit) # display dendogram"
   ]
  },
  {
   "cell_type": "code",
   "execution_count": null,
   "metadata": {
    "collapsed": true
   },
   "outputs": [],
   "source": [
    "matplot(t(res[1:3,]),type=\"l\")"
   ]
  },
  {
   "cell_type": "code",
   "execution_count": 8,
   "metadata": {
    "collapsed": true
   },
   "outputs": [],
   "source": [
    "#get 5 highest samples\n",
    "tot = tapply(x$INTERVAL_READ, x$MR_MDVC_NUMBER, sum, na.rm=T)\n",
    "qtot = quantile(tot,0:10/10);\n",
    "\n",
    "o = order(-tot);\n",
    "top = names(tot[o][1:5]);\n",
    "x_top <- x[match(x$MR_MDVC_NUMBER, top, nomatch=0)>0,]\n",
    "\n",
    "mid = names(tot[tot<qtot[6]&tot>=qtot[5]])[1:5];\n",
    "x_mid <- x[match(x$MR_MDVC_NUMBER, mid, nomatch=0)>0,]\n",
    "\n",
    "bot = names(tot[tot<qtot[3]&tot>=qtot[2]])[1:5];\n",
    "x_bot <- x[match(x$MR_MDVC_NUMBER, bot, nomatch=0)>0,]"
   ]
  },
  {
   "cell_type": "code",
   "execution_count": null,
   "metadata": {
    "collapsed": true
   },
   "outputs": [],
   "source": []
  },
  {
   "cell_type": "code",
   "execution_count": null,
   "metadata": {
    "collapsed": true
   },
   "outputs": [],
   "source": []
  },
  {
   "cell_type": "code",
   "execution_count": null,
   "metadata": {
    "collapsed": true
   },
   "outputs": [],
   "source": []
  },
  {
   "cell_type": "code",
   "execution_count": 13,
   "metadata": {
    "collapsed": true
   },
   "outputs": [],
   "source": [
    "my_plot <- function(tmp_df, i, q){\n",
    "    name <- paste(i,\"_\",q,\"_full\",\".jpeg\",sep=\"\")\n",
    "    jpeg(name)\n",
    "    par(mfrow=c(4,2))\n",
    "    plot(filter(tmp_df[tmp_df$MR_MDVC_NUMBER==i,]$INTERVAL_READ,c(1,2,3,4,5,4,3,2,1)/(25)),main=i)\n",
    "    acf(tmp_df[tmp_df$MR_MDVC_NUMBER==i,]$INTERVAL_READ,lag=24*4,main=i,na.action=na.pass)\n",
    "    acf(tmp_df[tmp_df$MR_MDVC_NUMBER==i,]$INTERVAL_READ,type=\"partial\",lag=24*4,main=i,na.action=na.pass)\n",
    "    acf(diff(tmp_df$INTERVAL_READ),main=i,na.action=na.pass)\n",
    "    dev.off()\n",
    "}"
   ]
  },
  {
   "cell_type": "code",
   "execution_count": 14,
   "metadata": {},
   "outputs": [
    {
     "data": {
      "text/html": [
       "<ol class=list-inline>\n",
       "\t<li>'123053025'</li>\n",
       "\t<li>'123053106'</li>\n",
       "\t<li>'123053137'</li>\n",
       "\t<li>'123053169'</li>\n",
       "\t<li>'123053053'</li>\n",
       "</ol>\n"
      ],
      "text/latex": [
       "\\begin{enumerate*}\n",
       "\\item '123053025'\n",
       "\\item '123053106'\n",
       "\\item '123053137'\n",
       "\\item '123053169'\n",
       "\\item '123053053'\n",
       "\\end{enumerate*}\n"
      ],
      "text/markdown": [
       "1. '123053025'\n",
       "2. '123053106'\n",
       "3. '123053137'\n",
       "4. '123053169'\n",
       "5. '123053053'\n",
       "\n",
       "\n"
      ],
      "text/plain": [
       "[1] \"123053025\" \"123053106\" \"123053137\" \"123053169\" \"123053053\""
      ]
     },
     "metadata": {},
     "output_type": "display_data"
    },
    {
     "name": "stdout",
     "output_type": "stream",
     "text": [
      "[1] \"123053025\"\n",
      "[1] \"123053106\"\n",
      "[1] \"123053137\"\n",
      "[1] \"123053169\"\n",
      "[1] \"123053053\"\n"
     ]
    },
    {
     "data": {
      "text/html": [
       "<ol class=list-inline>\n",
       "\t<li>'123053036'</li>\n",
       "\t<li>'123053040'</li>\n",
       "\t<li>'123053916'</li>\n",
       "\t<li>'123054013'</li>\n",
       "\t<li>'123054329'</li>\n",
       "</ol>\n"
      ],
      "text/latex": [
       "\\begin{enumerate*}\n",
       "\\item '123053036'\n",
       "\\item '123053040'\n",
       "\\item '123053916'\n",
       "\\item '123054013'\n",
       "\\item '123054329'\n",
       "\\end{enumerate*}\n"
      ],
      "text/markdown": [
       "1. '123053036'\n",
       "2. '123053040'\n",
       "3. '123053916'\n",
       "4. '123054013'\n",
       "5. '123054329'\n",
       "\n",
       "\n"
      ],
      "text/plain": [
       "[1] \"123053036\" \"123053040\" \"123053916\" \"123054013\" \"123054329\""
      ]
     },
     "metadata": {},
     "output_type": "display_data"
    },
    {
     "name": "stdout",
     "output_type": "stream",
     "text": [
      "[1] \"123053036\"\n",
      "[1] \"123053040\"\n",
      "[1] \"123053916\"\n",
      "[1] \"123054013\"\n",
      "[1] \"123054329\"\n"
     ]
    },
    {
     "data": {
      "text/html": [
       "<ol class=list-inline>\n",
       "\t<li>'123053028'</li>\n",
       "\t<li>'123053035'</li>\n",
       "\t<li>'123053089'</li>\n",
       "\t<li>'123053092'</li>\n",
       "\t<li>'123053103'</li>\n",
       "</ol>\n"
      ],
      "text/latex": [
       "\\begin{enumerate*}\n",
       "\\item '123053028'\n",
       "\\item '123053035'\n",
       "\\item '123053089'\n",
       "\\item '123053092'\n",
       "\\item '123053103'\n",
       "\\end{enumerate*}\n"
      ],
      "text/markdown": [
       "1. '123053028'\n",
       "2. '123053035'\n",
       "3. '123053089'\n",
       "4. '123053092'\n",
       "5. '123053103'\n",
       "\n",
       "\n"
      ],
      "text/plain": [
       "[1] \"123053028\" \"123053035\" \"123053089\" \"123053092\" \"123053103\""
      ]
     },
     "metadata": {},
     "output_type": "display_data"
    },
    {
     "name": "stdout",
     "output_type": "stream",
     "text": [
      "[1] \"123053028\"\n",
      "[1] \"123053035\"\n",
      "[1] \"123053089\"\n",
      "[1] \"123053092\"\n",
      "[1] \"123053103\"\n"
     ]
    }
   ],
   "source": [
    "unique(x_bot$MR_MDVC_NUMBER)\n",
    "for(i in unique(x_bot$MR_MDVC_NUMBER)){\n",
    "    my_plot(x_bot,i,\"bot_big\")\n",
    "    print(i)\n",
    "}\n",
    "unique(x_top$MR_MDVC_NUMBER)\n",
    "for(i in unique(x_top$MR_MDVC_NUMBER)){\n",
    "    my_plot(x_top,i,\"top_big\")\n",
    "    print(i)\n",
    "}\n",
    "unique(x_mid$MR_MDVC_NUMBER)\n",
    "for(i in unique(x_mid$MR_MDVC_NUMBER)){\n",
    "    my_plot(x_mid,i,\"mid_big\")\n",
    "    print(i)\n",
    "}"
   ]
  },
  {
   "cell_type": "code",
   "execution_count": null,
   "metadata": {
    "collapsed": true
   },
   "outputs": [],
   "source": []
  }
 ],
 "metadata": {
  "kernelspec": {
   "display_name": "R",
   "language": "R",
   "name": "ir"
  },
  "language_info": {
   "codemirror_mode": "r",
   "file_extension": ".r",
   "mimetype": "text/x-r-source",
   "name": "R",
   "pygments_lexer": "r",
   "version": "3.4.0"
  }
 },
 "nbformat": 4,
 "nbformat_minor": 1
}
